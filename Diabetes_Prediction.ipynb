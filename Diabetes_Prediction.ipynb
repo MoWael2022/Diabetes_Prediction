{
  "nbformat": 4,
  "nbformat_minor": 0,
  "metadata": {
    "colab": {
      "provenance": [],
      "authorship_tag": "ABX9TyPnORdGxM3AFko3zTUyD7XG"
    },
    "kernelspec": {
      "name": "python3",
      "display_name": "Python 3"
    },
    "language_info": {
      "name": "python"
    }
  },
  "cells": [
    {
      "cell_type": "code",
      "execution_count": null,
      "metadata": {
        "id": "fbXEgeW7bG2R"
      },
      "outputs": [],
      "source": [
        "import matplotlib.pyplot as plt\n",
        "from sklearn.model_selection import train_test_split\n",
        "from sklearn.preprocessing import LabelEncoder, StandardScaler,MinMaxScaler\n",
        "from sklearn.feature_selection import SelectKBest, chi2, f_regression\n",
        "import pandas as pd\n",
        "from sklearn import metrics ,tree,neighbors\n",
        "from sklearn.metrics import classification_report , confusion_matrix"
      ]
    },
    {
      "cell_type": "markdown",
      "source": [
        "Read data"
      ],
      "metadata": {
        "id": "ahRWo_hJe22n"
      }
    },
    {
      "cell_type": "code",
      "source": [
        "my_data = pd.read_csv('/content/diabetes.csv')"
      ],
      "metadata": {
        "id": "EqenTsYqdlk4"
      },
      "execution_count": null,
      "outputs": []
    },
    {
      "cell_type": "markdown",
      "source": [
        "drop duplicated row"
      ],
      "metadata": {
        "id": "0EVFHQgse5HW"
      }
    },
    {
      "cell_type": "code",
      "source": [
        "my_data=my_data.drop_duplicates()"
      ],
      "metadata": {
        "id": "wDqMmgQvd92L"
      },
      "execution_count": null,
      "outputs": []
    },
    {
      "cell_type": "markdown",
      "source": [
        "handle null value"
      ],
      "metadata": {
        "id": "TnMj2Dw2e8nG"
      }
    },
    {
      "cell_type": "code",
      "source": [
        "def drop_columns_with_high_null_percentage(df, threshold=0.7):\n",
        "\n",
        "    # Calculate the null percentage for each column\n",
        "    null_percentage = df.isnull().mean()\n",
        "\n",
        "    # Identify columns with null percentage exceeding the threshold\n",
        "    columns_to_drop = null_percentage[null_percentage > threshold].index.tolist()\n",
        "\n",
        "\n",
        "    # Drop the identified columns\n",
        "    df_dropped = df.drop(columns=columns_to_drop)\n",
        "\n",
        "\n",
        "    for column in df_dropped.columns:\n",
        "        if df_dropped[column].dtype == 'object':\n",
        "           # For categorical columns, fill with the mode\n",
        "           mode_value = df_dropped[column].mode()[0]\n",
        "           df_dropped[column].fillna(mode_value, inplace=True)\n",
        "        else:\n",
        "           # For numeric columns, fill with the mean\n",
        "           mean_value = df_dropped[column].mean()\n",
        "           df_dropped[column].fillna(mean_value, inplace=True)\n",
        "\n",
        "\n",
        "\n",
        "    return df_dropped\n",
        "my_data = drop_columns_with_high_null_percentage(my_data)"
      ],
      "metadata": {
        "id": "b-oL7KKJd_tJ"
      },
      "execution_count": null,
      "outputs": []
    },
    {
      "cell_type": "markdown",
      "source": [
        "Define numerical columns"
      ],
      "metadata": {
        "id": "tt6HbtCzfAJO"
      }
    },
    {
      "cell_type": "code",
      "source": [
        "numerical_columns = my_data.select_dtypes(include=['int64', 'float64']).columns"
      ],
      "metadata": {
        "id": "tMtB5J3veH2F"
      },
      "execution_count": null,
      "outputs": []
    },
    {
      "cell_type": "markdown",
      "source": [
        "handle outliers"
      ],
      "metadata": {
        "id": "W1_c21C_fTnO"
      }
    },
    {
      "cell_type": "code",
      "source": [
        "for i in numerical_columns:\n",
        "    Q1 :float = my_data[i].quantile(0.25)\n",
        "    Q3:float = my_data[i].quantile(0.75)\n",
        "    IQR = Q3 - Q1\n",
        "    up_limit:float = Q3 + 1.5 * IQR\n",
        "    low_limit:float = Q1 - 1.5 * IQR\n",
        "    my_data.loc[my_data[i] > up_limit, i] :float= up_limit\n",
        "    my_data.loc[my_data[i] < low_limit, i] :float= low_limit\n"
      ],
      "metadata": {
        "id": "scU1HrgIeLLC"
      },
      "execution_count": null,
      "outputs": []
    },
    {
      "cell_type": "code",
      "source": [
        "numerical_columns= numerical_columns.delete(-1)"
      ],
      "metadata": {
        "id": "zIaI7pyVeNNF"
      },
      "execution_count": null,
      "outputs": []
    },
    {
      "cell_type": "markdown",
      "source": [
        "split data into feature and target"
      ],
      "metadata": {
        "id": "gAWzT-jjfhvm"
      }
    },
    {
      "cell_type": "code",
      "source": [
        "x = my_data.drop(columns=['Outcome'])\n",
        "y = my_data['Outcome']\n",
        "\n"
      ],
      "metadata": {
        "id": "FZa3CatceQRG"
      },
      "execution_count": null,
      "outputs": []
    },
    {
      "cell_type": "markdown",
      "source": [
        "feature scaling"
      ],
      "metadata": {
        "id": "lHV0aRG6fpHH"
      }
    },
    {
      "cell_type": "code",
      "source": [
        "x_normalizer = StandardScaler()\n",
        "x_norm =x_normalizer.fit_transform(x)"
      ],
      "metadata": {
        "id": "c5CzWrI3foa5"
      },
      "execution_count": null,
      "outputs": []
    },
    {
      "cell_type": "markdown",
      "source": [
        "spliting data into training and test"
      ],
      "metadata": {
        "id": "qeqM0-grftce"
      }
    },
    {
      "cell_type": "code",
      "source": [
        "\n",
        "\n",
        "x_train,x_test ,y_train ,y_test =train_test_split(x_norm,y,test_size=0.35,random_state=42,stratify=y)\n",
        "\n",
        "\n"
      ],
      "metadata": {
        "id": "qDvZN-Jkeg6V"
      },
      "execution_count": null,
      "outputs": []
    },
    {
      "cell_type": "markdown",
      "source": [
        "feature selection"
      ],
      "metadata": {
        "id": "h7kRdnr9f0iH"
      }
    },
    {
      "cell_type": "code",
      "source": [
        "k_best_selector = SelectKBest(score_func=f_regression, k=8)\n",
        "x_train = k_best_selector.fit_transform(x_train, y_train)\n",
        "x_test = k_best_selector.transform(x_test)"
      ],
      "metadata": {
        "id": "y0X3z9yRf0AO"
      },
      "execution_count": null,
      "outputs": []
    },
    {
      "cell_type": "markdown",
      "source": [
        "KNN Model"
      ],
      "metadata": {
        "id": "YiKf6qH9f5Oq"
      }
    },
    {
      "cell_type": "code",
      "source": [
        "knn_model = neighbors.KNeighborsClassifier(n_neighbors=7)\n",
        "knn_model.fit(x_train,y_train)\n",
        "\n",
        "y_pred= knn_model.predict(x_test)"
      ],
      "metadata": {
        "id": "pwABEl5wekwv"
      },
      "execution_count": null,
      "outputs": []
    },
    {
      "cell_type": "markdown",
      "source": [
        "Evalute the model"
      ],
      "metadata": {
        "id": "Z3nGqpPef8jJ"
      }
    },
    {
      "cell_type": "code",
      "source": [
        "print(f\"The Accuracy for KNN: {metrics.accuracy_score(y_test, y_pred):.2f}\")\n",
        "\n",
        "report = classification_report(y_test ,y_pred)\n",
        "\n",
        "print (\"classification report \\n\" , report)\n",
        "\n",
        "\n",
        "\n",
        "plt.scatter(y_test, y_pred)\n",
        "plt.plot(y_test, y_test, color='red')\n",
        "plt.xlabel('y-test data')\n",
        "plt.ylabel('predicted data ')\n",
        "plt.show()"
      ],
      "metadata": {
        "colab": {
          "base_uri": "https://localhost:8080/",
          "height": 650
        },
        "id": "Aro5PSEGelUX",
        "outputId": "059ac153-6e6f-4135-e266-dfdc77aa4f02"
      },
      "execution_count": null,
      "outputs": [
        {
          "output_type": "stream",
          "name": "stdout",
          "text": [
            "The Accuracy for KNN: 0.77\n",
            "classification report \n",
            "               precision    recall  f1-score   support\n",
            "\n",
            "         0.0       0.80      0.87      0.83       175\n",
            "         1.0       0.71      0.59      0.64        94\n",
            "\n",
            "    accuracy                           0.77       269\n",
            "   macro avg       0.75      0.73      0.74       269\n",
            "weighted avg       0.76      0.77      0.76       269\n",
            "\n"
          ]
        },
        {
          "output_type": "display_data",
          "data": {
            "text/plain": [
              "<Figure size 640x480 with 1 Axes>"
            ],
            "image/png": "[encoded data removed]"
          },
          "metadata": {}
        }
      ]
    }
  ]
}